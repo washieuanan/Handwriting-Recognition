{
  "nbformat": 4,
  "nbformat_minor": 0,
  "metadata": {
    "colab": {
      "name": "handwriting_recognition.ipynb",
      "provenance": []
    },
    "kernelspec": {
      "name": "python3",
      "display_name": "Python 3"
    },
    "accelerator": "GPU"
  },
  "cells": [
    {
      "cell_type": "markdown",
      "metadata": {
        "id": "q6ICOi39n6bL",
        "colab_type": "text"
      },
      "source": [
        "#### Setting Up Kaggle Dataset Downloads"
      ]
    },
    {
      "cell_type": "code",
      "metadata": {
        "id": "qHc-GV8yn3Cj",
        "colab_type": "code",
        "colab": {
          "base_uri": "https://localhost:8080/",
          "height": 204
        },
        "outputId": "d34536a2-aac5-445d-e120-4717b12202c2"
      },
      "source": [
        "!pip install kaggle"
      ],
      "execution_count": 1,
      "outputs": [
        {
          "output_type": "stream",
          "text": [
            "Requirement already satisfied: kaggle in /usr/local/lib/python3.6/dist-packages (1.5.6)\n",
            "Requirement already satisfied: urllib3<1.25,>=1.21.1 in /usr/local/lib/python3.6/dist-packages (from kaggle) (1.24.3)\n",
            "Requirement already satisfied: python-dateutil in /usr/local/lib/python3.6/dist-packages (from kaggle) (2.8.1)\n",
            "Requirement already satisfied: six>=1.10 in /usr/local/lib/python3.6/dist-packages (from kaggle) (1.15.0)\n",
            "Requirement already satisfied: tqdm in /usr/local/lib/python3.6/dist-packages (from kaggle) (4.41.1)\n",
            "Requirement already satisfied: python-slugify in /usr/local/lib/python3.6/dist-packages (from kaggle) (4.0.1)\n",
            "Requirement already satisfied: requests in /usr/local/lib/python3.6/dist-packages (from kaggle) (2.23.0)\n",
            "Requirement already satisfied: certifi in /usr/local/lib/python3.6/dist-packages (from kaggle) (2020.6.20)\n",
            "Requirement already satisfied: text-unidecode>=1.3 in /usr/local/lib/python3.6/dist-packages (from python-slugify->kaggle) (1.3)\n",
            "Requirement already satisfied: idna<3,>=2.5 in /usr/local/lib/python3.6/dist-packages (from requests->kaggle) (2.10)\n",
            "Requirement already satisfied: chardet<4,>=3.0.2 in /usr/local/lib/python3.6/dist-packages (from requests->kaggle) (3.0.4)\n"
          ],
          "name": "stdout"
        }
      ]
    },
    {
      "cell_type": "code",
      "metadata": {
        "id": "LLwXG0Crn_QX",
        "colab_type": "code",
        "colab": {
          "resources": {
            "http://localhost:8080/nbextensions/google.colab/files.js": {
              "data": "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",
              "ok": true,
              "headers": [
                [
                  "content-type",
                  "application/javascript"
                ]
              ],
              "status": 200,
              "status_text": ""
            }
          },
          "base_uri": "https://localhost:8080/",
          "height": 89
        },
        "outputId": "d31610aa-ca22-45da-e9de-18b3c24dfa75"
      },
      "source": [
        "from google.colab import files\n",
        "files.upload()"
      ],
      "execution_count": 1,
      "outputs": [
        {
          "output_type": "display_data",
          "data": {
            "text/html": [
              "\n",
              "     <input type=\"file\" id=\"files-d0a2fb43-eccf-48b1-8130-9707f77ff096\" name=\"files[]\" multiple disabled\n",
              "        style=\"border:none\" />\n",
              "     <output id=\"result-d0a2fb43-eccf-48b1-8130-9707f77ff096\">\n",
              "      Upload widget is only available when the cell has been executed in the\n",
              "      current browser session. Please rerun this cell to enable.\n",
              "      </output>\n",
              "      <script src=\"/nbextensions/google.colab/files.js\"></script> "
            ],
            "text/plain": [
              "<IPython.core.display.HTML object>"
            ]
          },
          "metadata": {
            "tags": []
          }
        },
        {
          "output_type": "stream",
          "text": [
            "Saving kaggle.json to kaggle.json\n"
          ],
          "name": "stdout"
        },
        {
          "output_type": "execute_result",
          "data": {
            "text/plain": [
              "{'kaggle.json': b'{\"username\":\"washieuanan\",\"key\":\"0e84e590fbab38e88b4eceae5dfa937a\"}'}"
            ]
          },
          "metadata": {
            "tags": []
          },
          "execution_count": 1
        }
      ]
    },
    {
      "cell_type": "code",
      "metadata": {
        "id": "f0T45pbCoMDK",
        "colab_type": "code",
        "colab": {}
      },
      "source": [
        "!mkdir -p ~/.kaggle\n",
        "!cp kaggle.json ~/.kaggle/\n",
        "!chmod 600 ~/.kaggle/kaggle.json"
      ],
      "execution_count": 2,
      "outputs": []
    },
    {
      "cell_type": "code",
      "metadata": {
        "id": "qXkZ7z80oZCW",
        "colab_type": "code",
        "colab": {
          "base_uri": "https://localhost:8080/",
          "height": 68
        },
        "outputId": "6566630b-0a39-4ce4-fd45-7de44e9b7bf4"
      },
      "source": [
        "!kaggle datasets download -d landlord/handwriting-recognition"
      ],
      "execution_count": 3,
      "outputs": [
        {
          "output_type": "stream",
          "text": [
            "Downloading handwriting-recognition.zip to /content\n",
            "100% 1.26G/1.26G [00:17<00:00, 73.0MB/s]\n",
            "100% 1.26G/1.26G [00:17<00:00, 75.7MB/s]\n"
          ],
          "name": "stdout"
        }
      ]
    },
    {
      "cell_type": "code",
      "metadata": {
        "id": "iR_VovO-ofc9",
        "colab_type": "code",
        "colab": {
          "base_uri": "https://localhost:8080/",
          "height": 34
        },
        "outputId": "84a4557c-ccff-4b02-c8bc-7e59cac69245"
      },
      "source": [
        "!ls"
      ],
      "execution_count": 4,
      "outputs": [
        {
          "output_type": "stream",
          "text": [
            "handwriting-recognition.zip  kaggle.json  sample_data\n"
          ],
          "name": "stdout"
        }
      ]
    },
    {
      "cell_type": "code",
      "metadata": {
        "id": "a4Ekx6MIoozd",
        "colab_type": "code",
        "colab": {}
      },
      "source": [
        "import zipfile\n",
        "zip_ref = zipfile.ZipFile('handwriting-recognition.zip', 'r')\n",
        "zip_ref.extractall('files')\n",
        "zip_ref.close()"
      ],
      "execution_count": 5,
      "outputs": []
    },
    {
      "cell_type": "code",
      "metadata": {
        "id": "OmYdOfBro-xt",
        "colab_type": "code",
        "colab": {}
      },
      "source": [
        "import numpy as np \n",
        "import pandas as pd\n",
        "import cv2\n",
        "import matplotlib.pyplot as plt\n",
        "import os\n",
        "import random\n",
        "\n",
        "import tensorflow as tf\n",
        "import tensorflow.keras.backend as K \n",
        "from tensorflow.keras.models import Model\n",
        "from tensorflow.keras.layers import Input, Conv2D, MaxPooling2D, Reshape, Bidirectional, LSTM, Dense, Lambda, Activation, BatchNormalization, Dropout \n",
        "from tensorflow.keras.optimizers import Adam"
      ],
      "execution_count": 6,
      "outputs": []
    },
    {
      "cell_type": "markdown",
      "metadata": {
        "id": "7Lch2ruh4p8Z",
        "colab_type": "text"
      },
      "source": [
        "#### Loading The Dataset"
      ]
    },
    {
      "cell_type": "code",
      "metadata": {
        "id": "3VZ4erVjpi6m",
        "colab_type": "code",
        "colab": {}
      },
      "source": [
        "train = pd.read_csv('/content/files/written_name_train_v2.csv')\n",
        "val = pd.read_csv('/content/files/written_name_validation_v2.csv')"
      ],
      "execution_count": 9,
      "outputs": []
    },
    {
      "cell_type": "code",
      "metadata": {
        "id": "_ikNyKKPpkw8",
        "colab_type": "code",
        "colab": {
          "base_uri": "https://localhost:8080/",
          "height": 186
        },
        "outputId": "4653239f-f92c-427d-eb54-353f672d9a09"
      },
      "source": [
        "plt.figure(figsize = (15, 10))\n",
        "\n",
        "for i in range(6):\n",
        "    ax = plt.subplot(2, 3, i+1)\n",
        "    img_dir = '/content/files/train_v2/train/' + train.loc[i, 'FILENAME']\n",
        "    image = cv2.imread(img_dir, cv2.IMREAD_GRAYSCALE)\n",
        "    plt.imshow(image, cmap = 'gray')\n",
        "    plt.title(train.loc[i, 'IDENTITY'], fontsize = 12)\n",
        "    plt.axis('off')\n",
        "    \n",
        "    \n",
        "plt.subplots_adjust(wspace= 0.2, hspace=-.8)"
      ],
      "execution_count": 11,
      "outputs": [
        {
          "output_type": "display_data",
          "data": {
            "image/png": "[encoded data removed]",
            "text/plain": [
              "<Figure size 1080x720 with 6 Axes>"
            ]
          },
          "metadata": {
            "tags": [],
            "needs_background": "light"
          }
        }
      ]
    },
    {
      "cell_type": "markdown",
      "metadata": {
        "id": "PpFn2M4x45LO",
        "colab_type": "text"
      },
      "source": [
        "#### Cleaning The Data"
      ]
    },
    {
      "cell_type": "code",
      "metadata": {
        "id": "cHm3Z4DJptNl",
        "colab_type": "code",
        "colab": {
          "base_uri": "https://localhost:8080/",
          "height": 51
        },
        "outputId": "291be47d-2140-477f-e79a-2f63c81b63da"
      },
      "source": [
        "#Checking for NaN Values\n",
        "print(\"Training NaN's: \", train['IDENTITY'].isnull().sum())\n",
        "print(\"Validation NaN's: \", val['IDENTITY'].isnull().sum())"
      ],
      "execution_count": 12,
      "outputs": [
        {
          "output_type": "stream",
          "text": [
            "Training NaN's:  565\n",
            "Validation NaN's:  78\n"
          ],
          "name": "stdout"
        }
      ]
    },
    {
      "cell_type": "code",
      "metadata": {
        "id": "vSvNeuQXqFd9",
        "colab_type": "code",
        "colab": {}
      },
      "source": [
        "#Dropping the NaN values\n",
        "train.dropna(axis = 0, inplace = True)\n",
        "val.dropna(axis = 0, inplace = True)"
      ],
      "execution_count": 13,
      "outputs": []
    },
    {
      "cell_type": "code",
      "metadata": {
        "id": "eqMEwIHlqLVk",
        "colab_type": "code",
        "colab": {}
      },
      "source": [
        "#Removing the images classifed as 'UNREADABLE'\n",
        "train = train[train['IDENTITY'] != 'UNREADABLE']\n",
        "val = val[val['IDENTITY'] != 'UNREADABLE']"
      ],
      "execution_count": 14,
      "outputs": []
    },
    {
      "cell_type": "code",
      "metadata": {
        "id": "yxp5IVJiqNMd",
        "colab_type": "code",
        "colab": {}
      },
      "source": [
        "#Converting all labels into uppercase for uniformity \n",
        "train['IDENTITY'] = train['IDENTITY'].str.upper()\n",
        "val['IDENTITY'] = val['IDENTITY'].str.upper()"
      ],
      "execution_count": 15,
      "outputs": []
    },
    {
      "cell_type": "code",
      "metadata": {
        "id": "efs_LZrlqOx8",
        "colab_type": "code",
        "colab": {}
      },
      "source": [
        "#Resetting the index\n",
        "train.reset_index(inplace = True, drop  = True)\n",
        "val.reset_index(inplace = True, drop = True)"
      ],
      "execution_count": 16,
      "outputs": []
    },
    {
      "cell_type": "markdown",
      "metadata": {
        "id": "JRWQ7B8M48Uu",
        "colab_type": "text"
      },
      "source": [
        "#### Preparing The Images"
      ]
    },
    {
      "cell_type": "code",
      "metadata": {
        "id": "QW9X_OdsqQLd",
        "colab_type": "code",
        "colab": {}
      },
      "source": [
        "def preprocess(img):\n",
        "    (h, w) = img.shape\n",
        "    \n",
        "    final_img = np.ones([64, 256])*255 # blank white image\n",
        "    \n",
        "    # crop\n",
        "    if w > 256:\n",
        "        img = img[:, :256]\n",
        "        \n",
        "    if h > 64:\n",
        "        img = img[:64, :]\n",
        "    \n",
        "    \n",
        "    final_img[:h, :w] = img\n",
        "    return cv2.rotate(final_img, cv2.ROTATE_90_CLOCKWISE)"
      ],
      "execution_count": 17,
      "outputs": []
    },
    {
      "cell_type": "code",
      "metadata": {
        "id": "EnWEGEoAqSAF",
        "colab_type": "code",
        "colab": {}
      },
      "source": [
        "train_size = 30000\n",
        "val_size = 3000"
      ],
      "execution_count": 18,
      "outputs": []
    },
    {
      "cell_type": "code",
      "metadata": {
        "id": "Lgu0XA5aqVEM",
        "colab_type": "code",
        "colab": {}
      },
      "source": [
        "train_x = []\n",
        "\n",
        "for i in range(train_size):\n",
        "    img_dir = '/content/files/train_v2/train/' + train.loc[i, 'FILENAME']\n",
        "    image = cv2.imread(img_dir, cv2.IMREAD_GRAYSCALE)\n",
        "    image = preprocess(image)\n",
        "    image = image/255\n",
        "    train_x.append(image)"
      ],
      "execution_count": 21,
      "outputs": []
    },
    {
      "cell_type": "code",
      "metadata": {
        "id": "xFCBYezgqWc0",
        "colab_type": "code",
        "colab": {}
      },
      "source": [
        "valid_x = []\n",
        "\n",
        "for i in range(val_size):\n",
        "    img_dir = '/content/files/validation_v2/validation/'+val.loc[i, 'FILENAME']\n",
        "    image = cv2.imread(img_dir, cv2.IMREAD_GRAYSCALE)\n",
        "    image = preprocess(image)\n",
        "    image = image/255.\n",
        "    valid_x.append(image)"
      ],
      "execution_count": 22,
      "outputs": []
    },
    {
      "cell_type": "code",
      "metadata": {
        "id": "Fw5p4is3qfkV",
        "colab_type": "code",
        "colab": {}
      },
      "source": [
        "train_x = np.array(train_x).reshape(-1, 256,64, 1)\n",
        "valid_x = np.array(valid_x).reshape(-1, 256, 64, 1)"
      ],
      "execution_count": 23,
      "outputs": []
    },
    {
      "cell_type": "markdown",
      "metadata": {
        "id": "Dqo5r1lR4_eo",
        "colab_type": "text"
      },
      "source": [
        "#### Preparing The Labels For CTC Loss\n",
        "\n",
        "CTC loss, also known as connectionist temporal classification, is a transcription layer within a neural network. It is mainly used within text recognition problems. By using a CTC loss, we only have to specify the text that occurs in the image, thereby ignoring both the position and the width of the characters in the image. We are also no longer needed to perform further preprocessing on an image to get the character scores. If you would like to read more about CTC loss, refer to this [article](https://towardsdatascience.com/intuitively-understanding-connectionist-temporal-classification-3797e43a86c).\n",
        "\n",
        "If we are going to use the CTC loss for this text recognition problem, we must convert the labels to numbers, which will represent each character in the data. The alphabet that I will be providing will contain the following characters: <code>A-Z</code>, <code>-</code>, <code>'</code>, and spaces.\n"
      ]
    },
    {
      "cell_type": "code",
      "metadata": {
        "id": "KGCX0YTWqhAd",
        "colab_type": "code",
        "colab": {}
      },
      "source": [
        "alphabets = u\"ABCDEFGHIJKLMNOPQRSTUVWXYZ-' \"\n",
        "max_str_len = 24 # max length of input labels\n",
        "num_of_characters = len(alphabets) + 1 # +1 for ctc pseudo blank\n",
        "num_of_timestamps = 64 # max length of predicted labels\n",
        "\n",
        "\n",
        "def label_to_num(label):\n",
        "    label_num = []\n",
        "    for ch in label:\n",
        "        label_num.append(alphabets.find(ch))\n",
        "        \n",
        "    return np.array(label_num)\n",
        "\n",
        "def num_to_label(num):\n",
        "    ret = \"\"\n",
        "    for ch in num:\n",
        "        if ch == -1:  # CTC Blank\n",
        "            break\n",
        "        else:\n",
        "            ret+=alphabets[ch]\n",
        "    return ret"
      ],
      "execution_count": 24,
      "outputs": []
    },
    {
      "cell_type": "code",
      "metadata": {
        "id": "7pQ5Eeodqjet",
        "colab_type": "code",
        "colab": {
          "base_uri": "https://localhost:8080/",
          "height": 51
        },
        "outputId": "6059125a-1891-4ad7-9176-05e5b1a8ad96"
      },
      "source": [
        "name = 'WASHIEU'\n",
        "print(name, '\\n',label_to_num(name))"
      ],
      "execution_count": 25,
      "outputs": [
        {
          "output_type": "stream",
          "text": [
            "WASHIEU \n",
            " [22  0 18  7  8  4 20]\n"
          ],
          "name": "stdout"
        }
      ]
    },
    {
      "cell_type": "code",
      "metadata": {
        "id": "PbSqilIwq7wd",
        "colab_type": "code",
        "colab": {}
      },
      "source": [
        "train_y = np.ones([train_size, max_str_len]) * -1 #contains the true labels that were converted to numbers\n",
        "train_label_len = np.zeros([train_size, 1]) #contains the length of each true label \n",
        "train_input_len = np.ones([train_size, 1]) * (num_of_timestamps-2) #contains the length of each predicted label. \n",
        "train_output = np.zeros([train_size]) #dummy output for ctc loss\n",
        "\n",
        "for i in range(train_size):\n",
        "    train_label_len[i] = len(train.loc[i, 'IDENTITY'])\n",
        "    train_y[i, 0:len(train.loc[i, 'IDENTITY'])]= label_to_num(train.loc[i, 'IDENTITY'])"
      ],
      "execution_count": 26,
      "outputs": []
    },
    {
      "cell_type": "code",
      "metadata": {
        "id": "O3IYd7oDq9i1",
        "colab_type": "code",
        "colab": {}
      },
      "source": [
        "valid_y = np.ones([val_size, max_str_len]) * -1\n",
        "valid_label_len = np.zeros([val_size, 1])\n",
        "valid_input_len = np.ones([val_size, 1]) * (num_of_timestamps-2)\n",
        "valid_output = np.zeros([val_size])\n",
        "\n",
        "for i in range(val_size):\n",
        "    valid_label_len[i] = len(val.loc[i, 'IDENTITY'])\n",
        "    valid_y[i, 0:len(val.loc[i, 'IDENTITY'])]= label_to_num(val.loc[i, 'IDENTITY'])"
      ],
      "execution_count": 27,
      "outputs": []
    },
    {
      "cell_type": "code",
      "metadata": {
        "id": "QNc1IudOq_MV",
        "colab_type": "code",
        "colab": {
          "base_uri": "https://localhost:8080/",
          "height": 102
        },
        "outputId": "877a1d62-83ef-40c5-b8bf-c9428bc9ff2e"
      },
      "source": [
        "print('True label : ',train.loc[100, 'IDENTITY'] , '\\ntrain_y : ',train_y[100],'\\ntrain_label_len : ',train_label_len[100], \n",
        "      '\\ntrain_input_len : ', train_input_len[100])"
      ],
      "execution_count": 28,
      "outputs": [
        {
          "output_type": "stream",
          "text": [
            "True label :  NOUR \n",
            "train_y :  [13. 14. 20. 17. -1. -1. -1. -1. -1. -1. -1. -1. -1. -1. -1. -1. -1. -1.\n",
            " -1. -1. -1. -1. -1. -1.] \n",
            "train_label_len :  [4.] \n",
            "train_input_len :  [62.]\n"
          ],
          "name": "stdout"
        }
      ]
    },
    {
      "cell_type": "markdown",
      "metadata": {
        "id": "EyRApPET5IeG",
        "colab_type": "text"
      },
      "source": [
        "#### Constructing The Model"
      ]
    },
    {
      "cell_type": "code",
      "metadata": {
        "id": "EGpyXq4irAbV",
        "colab_type": "code",
        "colab": {
          "base_uri": "https://localhost:8080/",
          "height": 867
        },
        "outputId": "7d33ca2f-43c1-421a-82bf-8f4ce50e5239"
      },
      "source": [
        "input_data = Input(shape = (256, 64, 1), name = 'input')\n",
        "\n",
        "inner = Conv2D(32, (3, 3), padding='same', name='conv1', kernel_initializer='he_normal')(input_data)  \n",
        "inner = BatchNormalization()(inner)\n",
        "inner = Activation('relu')(inner)\n",
        "inner = MaxPooling2D(pool_size=(2, 2), name='max1')(inner)\n",
        "\n",
        "inner = Conv2D(64, (3, 3), padding='same', name='conv2', kernel_initializer='he_normal')(inner)\n",
        "inner = BatchNormalization()(inner)\n",
        "inner = Activation('relu')(inner)\n",
        "inner = MaxPooling2D(pool_size=(2, 2), name='max2')(inner)\n",
        "inner = Dropout(0.3)(inner)\n",
        "\n",
        "inner = Conv2D(128, (3, 3), padding='same', name='conv3', kernel_initializer='he_normal')(inner)\n",
        "inner = BatchNormalization()(inner)\n",
        "inner = Activation('relu')(inner)\n",
        "inner = MaxPooling2D(pool_size=(1, 2), name='max3')(inner)\n",
        "inner = Dropout(0.3)(inner)\n",
        "\n",
        "# CNN to RNN\n",
        "inner = Reshape(target_shape=((64, 1024)), name='reshape')(inner)\n",
        "inner = Dense(64, activation='relu', kernel_initializer='he_normal', name='dense1')(inner)\n",
        "\n",
        "## RNN\n",
        "inner = Bidirectional(LSTM(256, return_sequences=True), name = 'lstm1')(inner)\n",
        "inner = Bidirectional(LSTM(256, return_sequences=True), name = 'lstm2')(inner)\n",
        "\n",
        "## OUTPUT\n",
        "inner = Dense(num_of_characters, kernel_initializer='he_normal',name='dense2')(inner)\n",
        "y_pred = Activation('softmax', name='softmax')(inner)\n",
        "\n",
        "model = Model(inputs=input_data, outputs=y_pred)\n",
        "model.summary()"
      ],
      "execution_count": 29,
      "outputs": [
        {
          "output_type": "stream",
          "text": [
            "Model: \"functional_1\"\n",
            "_________________________________________________________________\n",
            "Layer (type)                 Output Shape              Param #   \n",
            "=================================================================\n",
            "input (InputLayer)           [(None, 256, 64, 1)]      0         \n",
            "_________________________________________________________________\n",
            "conv1 (Conv2D)               (None, 256, 64, 32)       320       \n",
            "_________________________________________________________________\n",
            "batch_normalization (BatchNo (None, 256, 64, 32)       128       \n",
            "_________________________________________________________________\n",
            "activation (Activation)      (None, 256, 64, 32)       0         \n",
            "_________________________________________________________________\n",
            "max1 (MaxPooling2D)          (None, 128, 32, 32)       0         \n",
            "_________________________________________________________________\n",
            "conv2 (Conv2D)               (None, 128, 32, 64)       18496     \n",
            "_________________________________________________________________\n",
            "batch_normalization_1 (Batch (None, 128, 32, 64)       256       \n",
            "_________________________________________________________________\n",
            "activation_1 (Activation)    (None, 128, 32, 64)       0         \n",
            "_________________________________________________________________\n",
            "max2 (MaxPooling2D)          (None, 64, 16, 64)        0         \n",
            "_________________________________________________________________\n",
            "dropout (Dropout)            (None, 64, 16, 64)        0         \n",
            "_________________________________________________________________\n",
            "conv3 (Conv2D)               (None, 64, 16, 128)       73856     \n",
            "_________________________________________________________________\n",
            "batch_normalization_2 (Batch (None, 64, 16, 128)       512       \n",
            "_________________________________________________________________\n",
            "activation_2 (Activation)    (None, 64, 16, 128)       0         \n",
            "_________________________________________________________________\n",
            "max3 (MaxPooling2D)          (None, 64, 8, 128)        0         \n",
            "_________________________________________________________________\n",
            "dropout_1 (Dropout)          (None, 64, 8, 128)        0         \n",
            "_________________________________________________________________\n",
            "reshape (Reshape)            (None, 64, 1024)          0         \n",
            "_________________________________________________________________\n",
            "dense1 (Dense)               (None, 64, 64)            65600     \n",
            "_________________________________________________________________\n",
            "lstm1 (Bidirectional)        (None, 64, 512)           657408    \n",
            "_________________________________________________________________\n",
            "lstm2 (Bidirectional)        (None, 64, 512)           1574912   \n",
            "_________________________________________________________________\n",
            "dense2 (Dense)               (None, 64, 30)            15390     \n",
            "_________________________________________________________________\n",
            "softmax (Activation)         (None, 64, 30)            0         \n",
            "=================================================================\n",
            "Total params: 2,406,878\n",
            "Trainable params: 2,406,430\n",
            "Non-trainable params: 448\n",
            "_________________________________________________________________\n"
          ],
          "name": "stdout"
        }
      ]
    },
    {
      "cell_type": "code",
      "metadata": {
        "id": "pnCzSRSfrCgk",
        "colab_type": "code",
        "colab": {}
      },
      "source": [
        "#CTC Loss Function\n",
        "def ctc_lambda_func(args):\n",
        "    y_pred, labels, input_length, label_length = args\n",
        "    # the 2 is critical here since the first couple outputs of the RNN\n",
        "    # tend to be garbage\n",
        "    y_pred = y_pred[:, 2:, :]\n",
        "    return K.ctc_batch_cost(labels, y_pred, input_length, label_length)"
      ],
      "execution_count": 30,
      "outputs": []
    },
    {
      "cell_type": "code",
      "metadata": {
        "id": "rsrdAYhFrK6E",
        "colab_type": "code",
        "colab": {}
      },
      "source": [
        "labels = Input(name='gtruth_labels', shape=[max_str_len], dtype='float32')\n",
        "input_length = Input(name='input_length', shape=[1], dtype='int64')\n",
        "label_length = Input(name='label_length', shape=[1], dtype='int64')\n",
        "\n",
        "ctc_loss = Lambda(ctc_lambda_func, output_shape=(1,), name='ctc')([y_pred, labels, input_length, label_length])\n",
        "model_final = Model(inputs=[input_data, labels, input_length, label_length], outputs=ctc_loss)"
      ],
      "execution_count": 31,
      "outputs": []
    },
    {
      "cell_type": "code",
      "metadata": {
        "id": "Bt4ndKjrrNF1",
        "colab_type": "code",
        "colab": {
          "base_uri": "https://localhost:8080/",
          "height": 1000
        },
        "outputId": "c20ed6cc-597c-4fc2-8d49-b5f2c6c5d814"
      },
      "source": [
        "model_final.compile(loss={'ctc': lambda y_true, y_pred: y_pred}, optimizer=Adam(lr = 0.0001))\n",
        "\n",
        "with tf.device('/gpu:0'):\n",
        "    model_final.fit(x=[train_x, train_y, train_input_len, train_label_len], y=train_output, \n",
        "                validation_data=([valid_x, valid_y, valid_input_len, valid_label_len], valid_output),\n",
        "                epochs=60, batch_size=128)"
      ],
      "execution_count": 32,
      "outputs": [
        {
          "output_type": "stream",
          "text": [
            "Epoch 1/60\n",
            "235/235 [==============================] - 46s 196ms/step - loss: 24.3237 - val_loss: 20.6883\n",
            "Epoch 2/60\n",
            "235/235 [==============================] - 44s 189ms/step - loss: 20.1805 - val_loss: 20.1772\n",
            "Epoch 3/60\n",
            "235/235 [==============================] - 45s 191ms/step - loss: 19.8455 - val_loss: 19.7175\n",
            "Epoch 4/60\n",
            "235/235 [==============================] - 45s 192ms/step - loss: 19.4116 - val_loss: 19.1021\n",
            "Epoch 5/60\n",
            "235/235 [==============================] - 45s 192ms/step - loss: 18.5392 - val_loss: 18.0579\n",
            "Epoch 6/60\n",
            "235/235 [==============================] - 45s 193ms/step - loss: 17.3320 - val_loss: 16.4614\n",
            "Epoch 7/60\n",
            "235/235 [==============================] - 45s 192ms/step - loss: 15.6170 - val_loss: 14.4040\n",
            "Epoch 8/60\n",
            "235/235 [==============================] - 45s 193ms/step - loss: 13.5219 - val_loss: 13.0643\n",
            "Epoch 9/60\n",
            "235/235 [==============================] - 45s 192ms/step - loss: 11.3491 - val_loss: 12.2504\n",
            "Epoch 10/60\n",
            "235/235 [==============================] - 45s 192ms/step - loss: 9.1898 - val_loss: 8.8955\n",
            "Epoch 11/60\n",
            "235/235 [==============================] - 45s 192ms/step - loss: 7.3111 - val_loss: 6.6215\n",
            "Epoch 12/60\n",
            "235/235 [==============================] - 45s 192ms/step - loss: 6.0612 - val_loss: 6.8200\n",
            "Epoch 13/60\n",
            "235/235 [==============================] - 45s 191ms/step - loss: 5.2862 - val_loss: 4.7446\n",
            "Epoch 14/60\n",
            "235/235 [==============================] - 45s 190ms/step - loss: 4.7175 - val_loss: 4.6794\n",
            "Epoch 15/60\n",
            "235/235 [==============================] - 45s 191ms/step - loss: 4.2959 - val_loss: 3.9431\n",
            "Epoch 16/60\n",
            "235/235 [==============================] - 45s 190ms/step - loss: 3.9785 - val_loss: 3.7661\n",
            "Epoch 17/60\n",
            "235/235 [==============================] - 45s 191ms/step - loss: 3.7142 - val_loss: 3.3844\n",
            "Epoch 18/60\n",
            "235/235 [==============================] - 45s 190ms/step - loss: 3.4887 - val_loss: 3.3025\n",
            "Epoch 19/60\n",
            "235/235 [==============================] - 45s 191ms/step - loss: 3.3055 - val_loss: 3.1943\n",
            "Epoch 20/60\n",
            "235/235 [==============================] - 45s 192ms/step - loss: 3.1608 - val_loss: 3.0258\n",
            "Epoch 21/60\n",
            "235/235 [==============================] - 45s 191ms/step - loss: 3.0226 - val_loss: 2.7798\n",
            "Epoch 22/60\n",
            "235/235 [==============================] - 45s 191ms/step - loss: 2.8787 - val_loss: 2.7778\n",
            "Epoch 23/60\n",
            "235/235 [==============================] - 45s 191ms/step - loss: 2.7754 - val_loss: 2.5922\n",
            "Epoch 24/60\n",
            "235/235 [==============================] - 45s 191ms/step - loss: 2.6754 - val_loss: 2.5385\n",
            "Epoch 25/60\n",
            "235/235 [==============================] - 45s 192ms/step - loss: 2.5731 - val_loss: 2.4738\n",
            "Epoch 26/60\n",
            "235/235 [==============================] - 45s 192ms/step - loss: 2.5007 - val_loss: 2.6525\n",
            "Epoch 27/60\n",
            "235/235 [==============================] - 45s 192ms/step - loss: 2.4263 - val_loss: 2.4671\n",
            "Epoch 28/60\n",
            "235/235 [==============================] - 45s 191ms/step - loss: 2.3495 - val_loss: 2.4379\n",
            "Epoch 29/60\n",
            "235/235 [==============================] - 45s 192ms/step - loss: 2.2838 - val_loss: 2.4327\n",
            "Epoch 30/60\n",
            "235/235 [==============================] - 45s 191ms/step - loss: 2.2274 - val_loss: 2.3094\n",
            "Epoch 31/60\n",
            "235/235 [==============================] - 45s 193ms/step - loss: 2.1735 - val_loss: 2.2575\n",
            "Epoch 32/60\n",
            "235/235 [==============================] - 45s 193ms/step - loss: 2.1044 - val_loss: 2.2503\n",
            "Epoch 33/60\n",
            "235/235 [==============================] - 45s 193ms/step - loss: 2.0669 - val_loss: 2.2951\n",
            "Epoch 34/60\n",
            "235/235 [==============================] - 45s 193ms/step - loss: 2.0133 - val_loss: 2.3197\n",
            "Epoch 35/60\n",
            "235/235 [==============================] - 45s 193ms/step - loss: 1.9711 - val_loss: 2.1645\n",
            "Epoch 36/60\n",
            "235/235 [==============================] - 45s 193ms/step - loss: 1.9216 - val_loss: 2.2227\n",
            "Epoch 37/60\n",
            "235/235 [==============================] - 45s 193ms/step - loss: 1.8896 - val_loss: 2.1332\n",
            "Epoch 38/60\n",
            "235/235 [==============================] - 45s 192ms/step - loss: 1.8433 - val_loss: 2.0908\n",
            "Epoch 39/60\n",
            "235/235 [==============================] - 45s 192ms/step - loss: 1.7949 - val_loss: 2.0846\n",
            "Epoch 40/60\n",
            "235/235 [==============================] - 45s 192ms/step - loss: 1.7668 - val_loss: 2.1126\n",
            "Epoch 41/60\n",
            "235/235 [==============================] - 45s 192ms/step - loss: 1.7305 - val_loss: 2.1425\n",
            "Epoch 42/60\n",
            "235/235 [==============================] - 45s 192ms/step - loss: 1.6930 - val_loss: 2.1505\n",
            "Epoch 43/60\n",
            "235/235 [==============================] - 45s 193ms/step - loss: 1.6501 - val_loss: 2.2266\n",
            "Epoch 44/60\n",
            "235/235 [==============================] - 45s 192ms/step - loss: 1.6137 - val_loss: 2.0384\n",
            "Epoch 45/60\n",
            "235/235 [==============================] - 45s 192ms/step - loss: 1.5877 - val_loss: 2.0577\n",
            "Epoch 46/60\n",
            "235/235 [==============================] - 45s 191ms/step - loss: 1.5549 - val_loss: 2.0193\n",
            "Epoch 47/60\n",
            "235/235 [==============================] - 45s 192ms/step - loss: 1.5314 - val_loss: 2.0817\n",
            "Epoch 48/60\n",
            "235/235 [==============================] - 45s 191ms/step - loss: 1.4943 - val_loss: 2.0337\n",
            "Epoch 49/60\n",
            "235/235 [==============================] - 45s 192ms/step - loss: 1.4632 - val_loss: 2.0364\n",
            "Epoch 50/60\n",
            "235/235 [==============================] - 45s 192ms/step - loss: 1.4395 - val_loss: 1.9969\n",
            "Epoch 51/60\n",
            "235/235 [==============================] - 45s 192ms/step - loss: 1.4146 - val_loss: 2.0885\n",
            "Epoch 52/60\n",
            "235/235 [==============================] - 45s 192ms/step - loss: 1.3853 - val_loss: 2.0453\n",
            "Epoch 53/60\n",
            "235/235 [==============================] - 45s 190ms/step - loss: 1.3511 - val_loss: 2.0004\n",
            "Epoch 54/60\n",
            "235/235 [==============================] - 45s 191ms/step - loss: 1.3342 - val_loss: 2.0286\n",
            "Epoch 55/60\n",
            "235/235 [==============================] - 45s 190ms/step - loss: 1.2901 - val_loss: 2.1172\n",
            "Epoch 56/60\n",
            "235/235 [==============================] - 45s 190ms/step - loss: 1.2691 - val_loss: 2.0174\n",
            "Epoch 57/60\n",
            "235/235 [==============================] - 45s 190ms/step - loss: 1.2466 - val_loss: 2.0093\n",
            "Epoch 58/60\n",
            "235/235 [==============================] - 45s 190ms/step - loss: 1.2212 - val_loss: 2.0318\n",
            "Epoch 59/60\n",
            "235/235 [==============================] - 45s 191ms/step - loss: 1.1964 - val_loss: 2.0218\n",
            "Epoch 60/60\n",
            "235/235 [==============================] - 45s 191ms/step - loss: 1.1723 - val_loss: 2.0746\n"
          ],
          "name": "stdout"
        }
      ]
    },
    {
      "cell_type": "markdown",
      "metadata": {
        "id": "fFH_gM-95RfO",
        "colab_type": "text"
      },
      "source": [
        "#### Testing The Performance Of The Model"
      ]
    },
    {
      "cell_type": "code",
      "metadata": {
        "id": "DUNX4QUUrPAc",
        "colab_type": "code",
        "colab": {
          "base_uri": "https://localhost:8080/",
          "height": 68
        },
        "outputId": "89904f7e-c6af-49f2-a06f-f3513bab14b0"
      },
      "source": [
        "preds = model.predict(valid_x)\n",
        "decoded = K.get_value(K.ctc_decode(preds, input_length=np.ones(preds.shape[0])*preds.shape[1], \n",
        "                                   greedy=True)[0][0])\n",
        "\n",
        "prediction = []\n",
        "for i in range(val_size):\n",
        "    prediction.append(num_to_label(decoded[i]))"
      ],
      "execution_count": 33,
      "outputs": [
        {
          "output_type": "stream",
          "text": [
            "WARNING:tensorflow:From /usr/local/lib/python3.6/dist-packages/tensorflow/python/util/dispatch.py:201: sparse_to_dense (from tensorflow.python.ops.sparse_ops) is deprecated and will be removed in a future version.\n",
            "Instructions for updating:\n",
            "Create a `tf.sparse.SparseTensor` and use `tf.sparse.to_dense` instead.\n"
          ],
          "name": "stdout"
        }
      ]
    },
    {
      "cell_type": "code",
      "metadata": {
        "id": "erXd1yXyu2WK",
        "colab_type": "code",
        "colab": {
          "base_uri": "https://localhost:8080/",
          "height": 51
        },
        "outputId": "5ba3f1b2-dd23-4317-bd50-d219f72379a7"
      },
      "source": [
        "y_true = val.loc[0:val_size, 'IDENTITY']\n",
        "correct_char = 0\n",
        "total_char = 0\n",
        "correct = 0\n",
        "\n",
        "for i in range(val_size):\n",
        "    pr = prediction[i]\n",
        "    tr = y_true[i]\n",
        "    total_char += len(tr)\n",
        "    \n",
        "    for j in range(min(len(tr), len(pr))):\n",
        "        if tr[j] == pr[j]:\n",
        "            correct_char += 1\n",
        "            \n",
        "    if pr == tr :\n",
        "        correct += 1 \n",
        "    \n",
        "print('Correct characters predicted : %.2f%%' %(correct_char*100/total_char))\n",
        "print('Correct words predicted      : %.2f%%' %(correct*100/val_size))"
      ],
      "execution_count": 34,
      "outputs": [
        {
          "output_type": "stream",
          "text": [
            "Correct characters predicted : 83.87%\n",
            "Correct words predicted      : 70.53%\n"
          ],
          "name": "stdout"
        }
      ]
    },
    {
      "cell_type": "code",
      "metadata": {
        "id": "uf3GX2mOu4Og",
        "colab_type": "code",
        "colab": {
          "base_uri": "https://localhost:8080/",
          "height": 171
        },
        "outputId": "60e009db-0123-4024-842c-d75e6206f828"
      },
      "source": [
        "test = pd.read_csv('/content/files/written_name_test_v2.csv')\n",
        "\n",
        "plt.figure(figsize=(15, 10))\n",
        "for i in range(6):\n",
        "    ax = plt.subplot(2, 3, i+1)\n",
        "    img_dir = '/content/files/test_v2/test/'+test.loc[i, 'FILENAME']\n",
        "    image = cv2.imread(img_dir, cv2.IMREAD_GRAYSCALE)\n",
        "    plt.imshow(image, cmap='gray')\n",
        "    \n",
        "    image = preprocess(image)\n",
        "    image = image/255.\n",
        "    pred = model.predict(image.reshape(1, 256, 64, 1))\n",
        "    decoded = K.get_value(K.ctc_decode(pred, input_length=np.ones(pred.shape[0])*pred.shape[1], \n",
        "                                       greedy=True)[0][0])\n",
        "    plt.title(num_to_label(decoded[0]), fontsize=12)\n",
        "    plt.axis('off')\n",
        "    \n",
        "plt.subplots_adjust(wspace=0.2, hspace=-0.8)"
      ],
      "execution_count": 37,
      "outputs": [
        {
          "output_type": "display_data",
          "data": {
            "image/png": "[encoded data removed]",
            "text/plain": [
              "<Figure size 1080x720 with 6 Axes>"
            ]
          },
          "metadata": {
            "tags": [],
            "needs_background": "light"
          }
        }
      ]
    }
  ]
}